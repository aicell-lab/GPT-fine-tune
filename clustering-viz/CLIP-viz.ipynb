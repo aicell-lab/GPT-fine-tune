{
 "cells": [
  {
   "cell_type": "code",
   "execution_count": null,
   "id": "import-libraries",
   "metadata": {},
   "outputs": [],
   "source": [
    "import os\n",
    "import numpy as np\n",
    "import umap\n",
    "import clip\n",
    "import torch\n",
    "from PIL import Image\n",
    "import plotly.graph_objects as go\n",
    "from sklearn.metrics.pairwise import cosine_similarity\n",
    "from sklearn.cluster import KMeans\n",
    "from sklearn.metrics import silhouette_score\n",
    "from IPython.display import display, HTML\n",
    "import pandas as pd"
   ]
  },
  {
   "cell_type": "code",
   "execution_count": null,
   "id": "load-clip-model",
   "metadata": {},
   "outputs": [],
   "source": [
    "device = \"cuda\" if torch.cuda.is_available() else \"cpu\"\n",
    "model, preprocess = clip.load(\"ViT-B/32\", device=device)"
   ]
  },
  {
   "cell_type": "code",
   "execution_count": null,
   "id": "functions",
   "metadata": {},
   "outputs": [],
   "source": [
    "def generate_embeddings(image_paths):\n",
    "    embeddings = []\n",
    "    for path in image_paths:\n",
    "        image = preprocess(Image.open(path)).unsqueeze(0).to(device)\n",
    "        with torch.no_grad():\n",
    "            embedding = model.encode_image(image)\n",
    "            embeddings.append(embedding.cpu().numpy())\n",
    "    return np.vstack(embeddings)\n",
    "\n",
    "def compute_similarity(embeddings):\n",
    "    normalized_embeddings = embeddings / np.linalg.norm(embeddings, axis=1, keepdims=True)\n",
    "    return cosine_similarity(normalized_embeddings)\n",
    "\n",
    "def find_similar_images(query_index, similarity_matrix, image_paths, top_n=5):\n",
    "    similarities = similarity_matrix[query_index]\n",
    "    similar_indices = np.argsort(-similarities)[:top_n]\n",
    "    return [(image_paths[i], similarities[i]) for i in similar_indices]\n",
    "\n",
    "def find_best_kmeans(projections, min_k=5, max_k=20):\n",
    "    best_k = None\n",
    "    best_score = -1\n",
    "    cluster_labels = None\n",
    "\n",
    "    for k in range(min_k, max_k + 1):\n",
    "        kmeans = KMeans(n_clusters=k, random_state=42)\n",
    "        labels = kmeans.fit_predict(projections)\n",
    "        score = silhouette_score(projections, labels)\n",
    "        print(f\"k={k}, Silhouette Score={score:.4f}\")\n",
    "\n",
    "        if score > best_score:\n",
    "            best_k = k\n",
    "            best_score = score\n",
    "            cluster_labels = labels\n",
    "\n",
    "    print(f\"Best k: {best_k}, Best Silhouette Score: {best_score:.4f}\")\n",
    "    return best_k, cluster_labels\n",
    "\n",
    "def visualize_clusters(projections, cluster_labels):\n",
    "    df = pd.DataFrame({\n",
    "        \"x\": projections[:, 0],\n",
    "        \"y\": projections[:, 1],\n",
    "        \"z\": projections[:, 2],\n",
    "        \"cluster\": cluster_labels\n",
    "    })\n",
    "\n",
    "    fig = go.Figure(data=go.Scatter3d(\n",
    "        x=df[\"x\"],\n",
    "        y=df[\"y\"],\n",
    "        z=df[\"z\"],\n",
    "        mode='markers',\n",
    "        marker=dict(size=6, color=df[\"cluster\"], opacity=0.8),\n",
    "        hovertemplate=\"<b>Cluster:</b> %{marker.color}<extra></extra>\"\n",
    "    ))\n",
    "\n",
    "    fig.update_layout(\n",
    "        title=\"UMAP + KMeans 3D Clustering\",\n",
    "        scene=dict(xaxis_title='X', yaxis_title='Y', zaxis_title='Z'),\n",
    "        height=800\n",
    "    )\n",
    "\n",
    "    fig.show()\n",
    "\n",
    "def show_similarity_results_with_index(query_index, similarity_matrix, image_paths, top_n=5):\n",
    "    similar_images = find_similar_images(query_index, similarity_matrix, image_paths, top_n=top_n)\n",
    "    \n",
    "    images, scores = zip(*similar_images)\n",
    "\n",
    "    print(f\"Query Index: {query_index}\")\n",
    "    print(f\"Query Image: {image_paths[query_index]}\")\n",
    "    print(f\"Top {top_n} Similar Images:\")\n",
    "    for i, (img, score) in enumerate(similar_images):\n",
    "        print(f\"Rank {i + 1}: Index: {image_paths.index(img)} | {img} (Similarity: {score:.4f})\")\n",
    "\n",
    "    html = '<div style=\"display: flex; flex-wrap: wrap; justify-content: flex-start;\">'\n",
    "    for i, img in enumerate(images):\n",
    "        html += f\"\"\"\n",
    "        <div style=\"margin: 10px; text-align: center;\">\n",
    "            <img src=\"{img}\" style=\"height: 150px; margin-bottom: 5px;\" />\n",
    "            <p style=\"font-size: 14px; margin: 0;\">Index: {image_paths.index(img)}</p>\n",
    "            <p style=\"font-size: 14px; margin: 0;\">Sim: {scores[i]:.4f}</p>\n",
    "        </div>\n",
    "        \"\"\"\n",
    "    html += '</div>'\n",
    "\n",
    "    display(HTML(html))"
   ]
  },
  {
   "cell_type": "code",
   "execution_count": null,
   "id": "image-folder-path",
   "metadata": {},
   "outputs": [],
   "source": [
    "image_folder = \"/home/xuanl/UMAP_local/static\"\n",
    "image_paths = [os.path.join(image_folder, img) for img in os.listdir(image_folder) if img.endswith((\".png\", \".jpg\", \".jpeg\"))]"
   ]
  },
  {
   "cell_type": "code",
   "execution_count": null,
   "id": "generate-embeddings",
   "metadata": {},
   "outputs": [],
   "source": [
    "print(\"Generating CLIP embeddings...\")\n",
    "embeddings = generate_embeddings(image_paths)\n",
    "print(f\"Generated embeddings of shape: {embeddings.shape}\")"
   ]
  },
  {
   "cell_type": "code",
   "execution_count": null,
   "id": "reduce-dimensions",
   "metadata": {},
   "outputs": [],
   "source": [
    "print(\"Reducing dimensions with UMAP...\")\n",
    "umap_reducer = umap.UMAP(n_neighbors=15, min_dist=0.1, n_components=3, random_state=42)\n",
    "projections = umap_reducer.fit_transform(embeddings)"
   ]
  },
  {
   "cell_type": "code",
   "execution_count": null,
   "id": "kmeans-clustering",
   "metadata": {},
   "outputs": [],
   "source": [
    "print(\"Performing KMeans clustering...\")\n",
    "best_k, cluster_labels = find_best_kmeans(projections, min_k=5, max_k=20)"
   ]
  },
  {
   "cell_type": "code",
   "execution_count": null,
   "id": "compute-similarity",
   "metadata": {},
   "outputs": [],
   "source": [
    "print(\"Computing cosine similarity matrix...\")\n",
    "similarity_matrix = compute_similarity(embeddings)"
   ]
  },
  {
   "cell_type": "code",
   "execution_count": null,
   "id": "visualize-clusters",
   "metadata": {},
   "outputs": [],
   "source": [
    "print(\"Visualizing 3D clustering with similarity search...\")\n",
    "visualize_clusters(projections, cluster_labels)"
   ]
  },
  {
   "cell_type": "code",
   "execution_count": null,
   "id": "similarity-search",
   "metadata": {},
   "outputs": [],
   "source": [
    "query_index = 0  # Replace with the desired index\n",
    "top_n = 5        # Replace with the desired number of similar images\n",
    "show_similarity_results_with_index(query_index, similarity_matrix, image_paths, top_n=top_n)"
   ]
  }
 ],
 "metadata": {
  "kernelspec": {
   "display_name": "Python 3",
   "language": "python",
   "name": "python3"
  },
  "language_info": {
   "name": "python",
   "version": "3.8"
  }
 },
 "nbformat": 4,
 "nbformat_minor": 5
}
